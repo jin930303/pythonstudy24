{
  "nbformat": 4,
  "nbformat_minor": 0,
  "metadata": {
    "colab": {
      "provenance": [],
      "authorship_tag": "ABX9TyN1s5Ry/YnTgjvQlSfxkL9b",
      "include_colab_link": true
    },
    "kernelspec": {
      "name": "python3",
      "display_name": "Python 3"
    },
    "language_info": {
      "name": "python"
    }
  },
  "cells": [
    {
      "cell_type": "markdown",
      "metadata": {
        "id": "view-in-github",
        "colab_type": "text"
      },
      "source": [
        "<a href=\"https://colab.research.google.com/github/jin930303/pythonstudy24/blob/master/package.ipynb\" target=\"_parent\"><img src=\"https://colab.research.google.com/assets/colab-badge.svg\" alt=\"Open In Colab\"/></a>"
      ]
    },
    {
      "cell_type": "code",
      "source": [
        "#game/\n",
        "    __init__.py\n",
        "    sound/\n",
        "        __init__.py\n",
        "        echo.py\n",
        "        wav.py\n",
        "    graphic/\n",
        "        __init__.py\n",
        "        screen.py\n",
        "        render.py\n",
        "    play/\n",
        "        __init__.py\n",
        "        run.py\n",
        "        test.py\n"
      ],
      "metadata": {
        "id": "hebwLVc1vs17"
      },
      "execution_count": null,
      "outputs": []
    },
    {
      "cell_type": "code",
      "execution_count": null,
      "metadata": {
        "id": "Sg4R0IX1vQBP"
      },
      "outputs": [],
      "source": [
        "# echo.py\n",
        "\n",
        "def echo_test():\n",
        "    print(\"echo_test()\")"
      ]
    },
    {
      "cell_type": "code",
      "source": [
        "# render.py\n",
        "\n",
        "def render_test():\n",
        "    print(\"render_test()\")\n",
        ""
      ],
      "metadata": {
        "id": "S7LMBQr0wAmT"
      },
      "execution_count": null,
      "outputs": []
    },
    {
      "cell_type": "code",
      "source": [
        "# cmd\n",
        "\n",
        "set PYTHONPATH = c:\\python-exam\n",
        "python"
      ],
      "metadata": {
        "id": "oHR8XkKawJx0"
      },
      "execution_count": null,
      "outputs": []
    },
    {
      "cell_type": "code",
      "source": [
        "import game.sound.echo\n",
        "game.sound.echo.echo_test()\n",
        "# \"echo_test()\"\n",
        "exit()"
      ],
      "metadata": {
        "id": "7VA4J7uDwXMf"
      },
      "execution_count": null,
      "outputs": []
    },
    {
      "cell_type": "code",
      "source": [
        "from game.sound.echo import echo_test\n",
        "echo_test()\n",
        "# \"echo_test()\""
      ],
      "metadata": {
        "id": "H5j-dptEwkYJ"
      },
      "execution_count": null,
      "outputs": []
    },
    {
      "cell_type": "markdown",
      "source": [
        "init.py의 용도"
      ],
      "metadata": {
        "id": "vBBKrDsAw0PL"
      }
    },
    {
      "cell_type": "code",
      "source": [
        "# c:/python-test/game/__init__.py\n",
        "\n",
        "def print_version_info() :\n",
        "    print(f\"The version of this game is {VERSION}\")\n",
        "    print(\" 게임 제작자 : 진\")\n",
        "    print(\" 게임 제작자 이메일 : dwid@nsnanw.com\")\n",
        "    print(\" 게임 제작의뢰  : 010-1234-1234\")\n",
        "\n",
        "# 패키지 실행 초기화 문구\n",
        "print(\"Initializing game...\")\n",
        "print(\"Loading.............\")"
      ],
      "metadata": {
        "id": "-UcTL9TawtyP"
      },
      "execution_count": null,
      "outputs": []
    },
    {
      "cell_type": "code",
      "source": [
        "import game\n",
        "print(game.VERSION)\n",
        "# 3.11\n",
        "game.print_version_info()\n",
        "The version of tihs game is 3.11."
      ],
      "metadata": {
        "id": "XWQEVHMLxHd9"
      },
      "execution_count": null,
      "outputs": []
    },
    {
      "cell_type": "markdown",
      "source": [
        "#패키지 초기화"
      ],
      "metadata": {
        "id": "023uzlrMxmXZ"
      }
    },
    {
      "cell_type": "code",
      "source": [
        "import game\n",
        "# Initializing game...\n",
        "# Loading............."
      ],
      "metadata": {
        "id": "kH5IwIPJxYap"
      },
      "execution_count": null,
      "outputs": []
    },
    {
      "cell_type": "code",
      "source": [
        "from game.graphic.render import render_test    # game 패키지의 하위 모듈 함수를 import 할경우에도 동일\n",
        "# Initializing game...\n",
        "# Loading............."
      ],
      "metadata": {
        "id": "ym7UP1RBxuu4"
      },
      "execution_count": null,
      "outputs": []
    },
    {
      "cell_type": "markdown",
      "source": [
        "#접근제한자"
      ],
      "metadata": {
        "id": "QClqAI6Cx9gY"
      }
    },
    {
      "cell_type": "code",
      "source": [
        "#c:python-test/game/sound/__init__.py\n",
        "\n",
        "__all__ =['echo']   # sound 디렉토리에서 * 을 사용하여 import 할 경우 사용 가능"
      ],
      "metadata": {
        "id": "2LfX3Jg5yBix"
      },
      "execution_count": null,
      "outputs": []
    },
    {
      "cell_type": "code",
      "source": [
        "from game.sound import *\n",
        "# Initializing game...\n",
        "# Loading.............\n",
        "echo.echo_test()\n"
      ],
      "metadata": {
        "id": "RC-3h3PqyUua"
      },
      "execution_count": null,
      "outputs": []
    },
    {
      "cell_type": "markdown",
      "source": [
        "#relative 패키지"
      ],
      "metadata": {
        "id": "OYL9DA1MycgN"
      }
    },
    {
      "cell_type": "code",
      "source": [
        "# render.py\n",
        "\n",
        "from game.sound.echo import echo_test\n",
        "def render_test():\n",
        "    print(\"render\")\n",
        "    echo_test()\n",
        ""
      ],
      "metadata": {
        "id": "Y2QXj9Y8yex0"
      },
      "execution_count": null,
      "outputs": []
    },
    {
      "cell_type": "code",
      "source": [
        "from game.graphic.render import render_test\n",
        "# Initializing game...\n",
        "# Loading.............\n",
        "render\n",
        "echo\n"
      ],
      "metadata": {
        "id": "v1-_TbFNyoVG"
      },
      "execution_count": null,
      "outputs": []
    },
    {
      "cell_type": "markdown",
      "source": [
        ".. 부모 디렉토리<br>\n",
        ". 현재 디렉토리"
      ],
      "metadata": {
        "id": "sAnFA-w3yzLa"
      }
    }
  ]
}
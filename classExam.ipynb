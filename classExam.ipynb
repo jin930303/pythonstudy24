{
  "nbformat": 4,
  "nbformat_minor": 0,
  "metadata": {
    "colab": {
      "provenance": [],
      "authorship_tag": "ABX9TyP/UlThY1IqzMxQloX0I7ge",
      "include_colab_link": true
    },
    "kernelspec": {
      "name": "python3",
      "display_name": "Python 3"
    },
    "language_info": {
      "name": "python"
    }
  },
  "cells": [
    {
      "cell_type": "markdown",
      "metadata": {
        "id": "view-in-github",
        "colab_type": "text"
      },
      "source": [
        "<a href=\"https://colab.research.google.com/github/jin930303/pythonstudy24/blob/master/classExam.ipynb\" target=\"_parent\"><img src=\"https://colab.research.google.com/assets/colab-badge.svg\" alt=\"Open In Colab\"/></a>"
      ]
    },
    {
      "cell_type": "markdown",
      "source": [
        "클래스는 객체지향 언어의 피루로 각각의 객체를 담당한다.\n",
        "\n",
        "만약 shoppingMall 프로젝트를 만든다고 하면\n",
        "\n",
        "회원용.py -> 동작(메서드) C,R,U,D, OTHER <br>\n",
        "아이템용.py  -> 동작(메서드) C,R,U,D, OTHER <br>\n",
        "게시판용.py  -> 동작(메서드) C,R,U,D, OTHER <br>\n",
        "장바구니.py  -> 동작(메서드) C,R,U,D, OTHER <br>\n",
        "등이 main.py와 연동되게 설정한다.\n",
        "\n"
      ],
      "metadata": {
        "id": "ty_ZqFW5iobw"
      }
    },
    {
      "cell_type": "code",
      "execution_count": 1,
      "metadata": {
        "colab": {
          "base_uri": "https://localhost:8080/"
        },
        "id": "CMrphLf4idH_",
        "outputId": "017b7c2c-6c7f-4ea4-c5b6-f75a8785ed82"
      },
      "outputs": [
        {
          "output_type": "stream",
          "name": "stdout",
          "text": [
            "4\n"
          ]
        }
      ],
      "source": [
        "# 계산기 처리용 클래스\n",
        "\n",
        "result = 0   #결과값 처리용 변수\n",
        "\n",
        "def add(num) :\n",
        "    global result       # 전역변수를 사용\n",
        "    result += num       # 메서드에 입력값을 더함\n",
        "    return result       # 결과를 보냄\n",
        "\n",
        "print(add(4))           # 위에 만든 메서드에 4를 입력하고 return 값을 출력한다.\n"
      ]
    },
    {
      "cell_type": "code",
      "source": [
        "print(add(9))"
      ],
      "metadata": {
        "colab": {
          "base_uri": "https://localhost:8080/"
        },
        "id": "ReUHyfUUk6O-",
        "outputId": "f8ce11fd-cfc1-4b5f-d25d-866ee434401c"
      },
      "execution_count": 2,
      "outputs": [
        {
          "output_type": "stream",
          "name": "stdout",
          "text": [
            "13\n"
          ]
        }
      ]
    },
    {
      "cell_type": "code",
      "source": [
        "# 만일 한 프로그램에서 2대의 계산기가 필요한 상황이라면?\n",
        "\n",
        "result1 = 0\n",
        "result2 = 0\n",
        "\n",
        "def add1(num) :\n",
        "    global result1\n",
        "    result1 += num\n",
        "    return result1\n",
        "\n",
        "def add2(num) :\n",
        "    global result2\n",
        "    result2 += num\n",
        "    return result2\n"
      ],
      "metadata": {
        "id": "BmgAKGirlMTQ"
      },
      "execution_count": null,
      "outputs": []
    },
    {
      "cell_type": "code",
      "source": [
        "# 클래스를 이용한 계산기\n",
        "\n",
        "class Calculator :              # 객체 생성용(생성자용 메서드, 일반메서드)\n",
        "\n",
        "    def __init__(self) :        # 생성자(객체 생성시 0순위로 처리 됨)\n",
        "        self.result = 0         # 객체 자신에 result 변수를 만들고 0 값을 넣음\n",
        "\n",
        "    def add(self, num) :        # 객체용 메서드\n",
        "        self.result += num      # 생성자에 있는 변수에 num을 누적합 저장\n",
        "        return self.result      # 결과를 리턴함."
      ],
      "metadata": {
        "id": "uHRf8W0ymBqZ"
      },
      "execution_count": 3,
      "outputs": []
    },
    {
      "cell_type": "code",
      "source": [
        "# 객체를 생성함 변수에 연결 (java : Calculator cal1 = new Calculator())\n",
        "\n",
        "cal1 = Calculator()     # 객체 1\n",
        "cal2 = Calculator()     # 객체 2\n",
        "\n",
        "print(cal1.add(3))      # 1번 계산기\n"
      ],
      "metadata": {
        "colab": {
          "base_uri": "https://localhost:8080/"
        },
        "id": "V3ytEau9nRvy",
        "outputId": "ec8ed2be-bacf-4682-892c-02959280bef7"
      },
      "execution_count": 4,
      "outputs": [
        {
          "output_type": "stream",
          "name": "stdout",
          "text": [
            "3\n"
          ]
        }
      ]
    },
    {
      "cell_type": "code",
      "source": [
        "print(cal2.add(9))      # 2번 계산기"
      ],
      "metadata": {
        "colab": {
          "base_uri": "https://localhost:8080/"
        },
        "id": "oQ6o8R3wn085",
        "outputId": "a13fbb59-d391-4025-c572-68df7a56537f"
      },
      "execution_count": 5,
      "outputs": [
        {
          "output_type": "stream",
          "name": "stdout",
          "text": [
            "9\n"
          ]
        }
      ]
    },
    {
      "cell_type": "code",
      "source": [
        "print(cal1.add(9))      # 1번 계산기"
      ],
      "metadata": {
        "colab": {
          "base_uri": "https://localhost:8080/"
        },
        "id": "tgh5dP_in_EK",
        "outputId": "3f7ad1bd-2d35-453b-c177-b377103dbf2d"
      },
      "execution_count": 6,
      "outputs": [
        {
          "output_type": "stream",
          "name": "stdout",
          "text": [
            "12\n"
          ]
        }
      ]
    },
    {
      "cell_type": "code",
      "source": [
        "print(cal2.add(10))       # 2번 계산기"
      ],
      "metadata": {
        "colab": {
          "base_uri": "https://localhost:8080/"
        },
        "id": "cVb2wlkroBn1",
        "outputId": "2b9422b4-2bbe-434a-bd12-f335762d1686"
      },
      "execution_count": 8,
      "outputs": [
        {
          "output_type": "stream",
          "name": "stdout",
          "text": [
            "19\n"
          ]
        }
      ]
    },
    {
      "cell_type": "code",
      "source": [
        "# 클래스를 활용한 사칙연산 계산기 만들기\n",
        "\n",
        "class FourCal :\n",
        "    #pass                # 아무기능 없이 동작\n",
        "\n",
        "    # 필드 : 객체마다 가지고 있어야할 데이터들 (dto, vo)\n",
        "\n",
        "    first = 0\n",
        "    second = 0\n",
        "\n",
        "     # 생성자 : 객체를 생성할 때 필요한 무언가  (생성자의 이름은 \"__init__\" )\n",
        "    def __init__(self, first, second) :\n",
        "        self.first = first\n",
        "        self.second = second\n",
        "\n",
        "    def setdata(self, first, second) :          # 메서드 선언(self 필수)\n",
        "        self.first = first                      # this.first = first\n",
        "        self.second = second                    # this.second = second\n",
        "\n",
        "    def add(self) :\n",
        "        result = self.first + self.second\n",
        "        return result\n",
        "\n",
        "    def mul(self) :\n",
        "        result = self.first * self.second\n",
        "        return result\n",
        "\n",
        "    def sub(self) :\n",
        "        result = self.first - self.second\n",
        "        return result\n",
        "\n",
        "    def div(self) :\n",
        "        result =self.first / self.second\n",
        "        return result\n",
        ""
      ],
      "metadata": {
        "id": "LC0wTjyXp1j8"
      },
      "execution_count": 25,
      "outputs": []
    },
    {
      "cell_type": "code",
      "source": [
        "a = FourCal()                                   # a 변수에 객체가 연결됨\n",
        "a.setdata(4,2)                                  # a 변수를 self로 처리함\n"
      ],
      "metadata": {
        "id": "raGBHSrLqGe4"
      },
      "execution_count": 14,
      "outputs": []
    },
    {
      "cell_type": "code",
      "source": [
        "b = FourCal()\n",
        "FourCal.setdata(b,4,2)"
      ],
      "metadata": {
        "id": "jdD6TD13uYuY"
      },
      "execution_count": 15,
      "outputs": []
    },
    {
      "cell_type": "code",
      "source": [
        "print(a.first)"
      ],
      "metadata": {
        "colab": {
          "base_uri": "https://localhost:8080/"
        },
        "id": "fbYLl9gKu3zZ",
        "outputId": "2d01c4bc-bd8b-4352-d643-554386906387"
      },
      "execution_count": 16,
      "outputs": [
        {
          "output_type": "stream",
          "name": "stdout",
          "text": [
            "4\n"
          ]
        }
      ]
    },
    {
      "cell_type": "code",
      "source": [
        "print(b.second)"
      ],
      "metadata": {
        "colab": {
          "base_uri": "https://localhost:8080/"
        },
        "id": "ZX8fAtZku-sB",
        "outputId": "5ae41b37-3487-4dcc-8a8f-6672df0306a8"
      },
      "execution_count": 17,
      "outputs": [
        {
          "output_type": "stream",
          "name": "stdout",
          "text": [
            "2\n"
          ]
        }
      ]
    },
    {
      "cell_type": "code",
      "source": [
        "c = FourCal()\n",
        "c.setdata(5,5)\n",
        "c.mul()"
      ],
      "metadata": {
        "colab": {
          "base_uri": "https://localhost:8080/"
        },
        "id": "_Wax4F4twR1L",
        "outputId": "63ce4c26-de63-4c7a-93de-6c305f8bb924"
      },
      "execution_count": 23,
      "outputs": [
        {
          "output_type": "execute_result",
          "data": {
            "text/plain": [
              "25"
            ]
          },
          "metadata": {},
          "execution_count": 23
        }
      ]
    },
    {
      "cell_type": "code",
      "source": [
        "d = FourCal(5,5)\n",
        "d.add()"
      ],
      "metadata": {
        "colab": {
          "base_uri": "https://localhost:8080/"
        },
        "id": "6puQJa4_wo1e",
        "outputId": "adf35cd3-13d0-4417-e80b-b0df97628773"
      },
      "execution_count": 27,
      "outputs": [
        {
          "output_type": "execute_result",
          "data": {
            "text/plain": [
              "10"
            ]
          },
          "metadata": {},
          "execution_count": 27
        }
      ]
    },
    {
      "cell_type": "code",
      "source": [
        "# 상속기능 : 부모가 만든 객체를 보완, 추가하는 기능\n",
        "\n",
        "class MoreFourCal(FourCal) :                        # 객체 생성시(부모객체)\n",
        "\n",
        "    def pow(self) :\n",
        "        result = self.first ** self.second\n",
        "        return result\n",
        "\n",
        "    # 오버라이딩 : 부모가 만든 메서드를 변경하여 사용함\n",
        "    def div(self) :\n",
        "        if self.second == 0 :\n",
        "            return 0\n",
        "\n",
        "        else :\n",
        "            return self.first / self.second\n",
        "\n"
      ],
      "metadata": {
        "id": "wzjIiFIoyKHS"
      },
      "execution_count": 33,
      "outputs": []
    },
    {
      "cell_type": "code",
      "source": [
        "e = MoreFourCal(4,4)\n",
        "e.pow()"
      ],
      "metadata": {
        "colab": {
          "base_uri": "https://localhost:8080/"
        },
        "id": "9enOvuMezgH_",
        "outputId": "999fd4af-98da-495d-801c-d6d035b88719"
      },
      "execution_count": 31,
      "outputs": [
        {
          "output_type": "execute_result",
          "data": {
            "text/plain": [
              "256"
            ]
          },
          "metadata": {},
          "execution_count": 31
        }
      ]
    },
    {
      "cell_type": "code",
      "source": [
        "f = MoreFourCal(4,0)\n",
        "f.div()"
      ],
      "metadata": {
        "colab": {
          "base_uri": "https://localhost:8080/"
        },
        "id": "cj20Syo603rh",
        "outputId": "02093dba-66eb-435b-e2ad-74195f4c3f25"
      },
      "execution_count": 34,
      "outputs": [
        {
          "output_type": "execute_result",
          "data": {
            "text/plain": [
              "0"
            ]
          },
          "metadata": {},
          "execution_count": 34
        }
      ]
    }
  ]
}
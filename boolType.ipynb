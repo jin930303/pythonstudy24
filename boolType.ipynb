{
  "nbformat": 4,
  "nbformat_minor": 0,
  "metadata": {
    "colab": {
      "provenance": [],
      "authorship_tag": "ABX9TyPoQZFcaoNfzH/0LTVdy3vf",
      "include_colab_link": true
    },
    "kernelspec": {
      "name": "python3",
      "display_name": "Python 3"
    },
    "language_info": {
      "name": "python"
    }
  },
  "cells": [
    {
      "cell_type": "markdown",
      "metadata": {
        "id": "view-in-github",
        "colab_type": "text"
      },
      "source": [
        "<a href=\"https://colab.research.google.com/github/jin930303/pythonstudy24/blob/master/boolType.ipynb\" target=\"_parent\"><img src=\"https://colab.research.google.com/assets/colab-badge.svg\" alt=\"Open In Colab\"/></a>"
      ]
    },
    {
      "cell_type": "markdown",
      "source": [
        "불 자료형(boolean)\n",
        "True 나 False 는 파이썬의 예약어로\n",
        "true, false 와 같이 작성 x\n",
        "첫 문자를 항상 대문자로 작성해야"
      ],
      "metadata": {
        "id": "1sLpyz4ZlXUE"
      }
    },
    {
      "cell_type": "code",
      "execution_count": 3,
      "metadata": {
        "colab": {
          "base_uri": "https://localhost:8080/"
        },
        "id": "_Wiv9ZtZlRu2",
        "outputId": "4cc41ac1-c9dc-4b4e-d07d-3da48adfaa04"
      },
      "outputs": [
        {
          "output_type": "execute_result",
          "data": {
            "text/plain": [
              "bool"
            ]
          },
          "metadata": {},
          "execution_count": 3
        }
      ],
      "source": [
        "a = True\n",
        "b =False\n",
        "type(a)\n",
        "type(b)"
      ]
    },
    {
      "cell_type": "code",
      "source": [
        "1 == 1\n",
        "\n",
        "2 > 1\n",
        "\n",
        "2 < 1"
      ],
      "metadata": {
        "colab": {
          "base_uri": "https://localhost:8080/"
        },
        "id": "8WdB6oVCluQ3",
        "outputId": "b7a9a58f-dded-442d-e86c-95f647c5daac"
      },
      "execution_count": 6,
      "outputs": [
        {
          "output_type": "execute_result",
          "data": {
            "text/plain": [
              "False"
            ]
          },
          "metadata": {},
          "execution_count": 6
        }
      ]
    },
    {
      "cell_type": "code",
      "source": [
        "a = [1,2,3,4]          #pop 마지막 요소를 끄집어 내는 함수\n",
        "while a :              # 마지막 요소는 [] 이므로 false, 이는 조건문에서 거짓이므로 while문에서 빠져나온다\n",
        "  print(a.pop())"
      ],
      "metadata": {
        "colab": {
          "base_uri": "https://localhost:8080/"
        },
        "id": "4TkMUJ_vl5et",
        "outputId": "b9354e29-d56b-4ba1-8806-7cc517f52cdb"
      },
      "execution_count": 7,
      "outputs": [
        {
          "output_type": "stream",
          "name": "stdout",
          "text": [
            "4\n",
            "3\n",
            "2\n",
            "1\n"
          ]
        }
      ]
    },
    {
      "cell_type": "code",
      "source": [
        "bool('python')\n",
        "bool('')            #false\n",
        "bool([1,2,3])\n",
        "bool([])            #false\n",
        "bool(0)             #false\n",
        "bool(3)"
      ],
      "metadata": {
        "colab": {
          "base_uri": "https://localhost:8080/"
        },
        "id": "xXhOtf9km8l0",
        "outputId": "382228fb-ed79-400a-aaa5-3bd71225ee17"
      },
      "execution_count": 15,
      "outputs": [
        {
          "output_type": "execute_result",
          "data": {
            "text/plain": [
              "True"
            ]
          },
          "metadata": {},
          "execution_count": 15
        }
      ]
    }
  ]
}
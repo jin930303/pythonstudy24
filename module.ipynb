{
  "nbformat": 4,
  "nbformat_minor": 0,
  "metadata": {
    "colab": {
      "provenance": [],
      "authorship_tag": "ABX9TyNsInkdWV2Fr6M/dhTtvtDs",
      "include_colab_link": true
    },
    "kernelspec": {
      "name": "python3",
      "display_name": "Python 3"
    },
    "language_info": {
      "name": "python"
    }
  },
  "cells": [
    {
      "cell_type": "markdown",
      "metadata": {
        "id": "view-in-github",
        "colab_type": "text"
      },
      "source": [
        "<a href=\"https://colab.research.google.com/github/jin930303/pythonstudy24/blob/master/module.ipynb\" target=\"_parent\"><img src=\"https://colab.research.google.com/assets/colab-badge.svg\" alt=\"Open In Colab\"/></a>"
      ]
    },
    {
      "cell_type": "markdown",
      "source": [
        "모듈 만들기"
      ],
      "metadata": {
        "id": "MumdWWFeo219"
      }
    },
    {
      "cell_type": "code",
      "execution_count": null,
      "metadata": {
        "id": "xJLd3MYJojHf"
      },
      "outputs": [],
      "source": [
        "# mod1.py\n",
        "\n",
        "def add(a,b) :\n",
        "    return a + b\n",
        "\n",
        "def sub(a , b) :\n",
        "    return a - b\n"
      ]
    },
    {
      "cell_type": "markdown",
      "source": [
        "모듈 불러오기"
      ],
      "metadata": {
        "id": "tu2VrgBZpHS2"
      }
    },
    {
      "cell_type": "code",
      "source": [
        "import mod1             #.py쓰지 않기\n",
        "print(mod1.add(3,4))\n",
        "print(mod1.sub(3,4))"
      ],
      "metadata": {
        "id": "9lFinf8SpGQ4"
      },
      "execution_count": null,
      "outputs": []
    },
    {
      "cell_type": "code",
      "source": [
        "from mod1 import add\n",
        "add(3,4)"
      ],
      "metadata": {
        "id": "f2Xll5d4pYvD"
      },
      "execution_count": null,
      "outputs": []
    },
    {
      "cell_type": "code",
      "source": [
        "from mod1 import add, sub\n",
        "from mod1 import *"
      ],
      "metadata": {
        "id": "TwDiObVNpdj-"
      },
      "execution_count": null,
      "outputs": []
    },
    {
      "cell_type": "markdown",
      "source": [
        "if__name__ =='__main__\" : 의 의미"
      ],
      "metadata": {
        "id": "DYB0okzBpj27"
      }
    },
    {
      "cell_type": "code",
      "source": [
        "#mod1.py\n",
        "\n",
        "def add(a,b):\n",
        "    return a+b\n",
        "\n",
        "def sub(a,b) :\n",
        "    return a-b\n",
        "\n",
        "if __name__ =\"__main__\" :       # 임포트일경우 실행 안됨\n",
        "print(add(1,4))\n",
        "print(sub(3,4))                 # 실행하면 결과값을 출력함\n"
      ],
      "metadata": {
        "id": "jDtclj75pq8y"
      },
      "execution_count": null,
      "outputs": []
    },
    {
      "cell_type": "code",
      "source": [
        "# mod2.py\n",
        "\n",
        "PI = 3.141592\n",
        "\n",
        "class Math :\n",
        "    def solv(self, r) :\n",
        "        return PI *(r**2)\n",
        "\n",
        "def add(a,b) :\n",
        "    return a+b\n",
        "\n",
        "\n"
      ],
      "metadata": {
        "id": "kHLsGCM-p-N9"
      },
      "execution_count": null,
      "outputs": []
    },
    {
      "cell_type": "code",
      "source": [
        "import mod2\n",
        "print(mod2.PI)\n",
        "# 3.141592"
      ],
      "metadata": {
        "id": "ztq30mA8qtTP"
      },
      "execution_count": null,
      "outputs": []
    },
    {
      "cell_type": "code",
      "source": [
        "a = mod2.Math()\n",
        "print(a.solv(2))\n",
        "#12.566368"
      ],
      "metadata": {
        "id": "x2WhKBGbq3YZ"
      },
      "execution_count": null,
      "outputs": []
    },
    {
      "cell_type": "code",
      "source": [
        "print(mod2.add(mod2.PI,4.4))\n",
        "#7.541592"
      ],
      "metadata": {
        "id": "7lalBf70rBgJ"
      },
      "execution_count": null,
      "outputs": []
    },
    {
      "cell_type": "markdown",
      "source": [
        "다른 파일에서 모듈 불러오기"
      ],
      "metadata": {
        "id": "C9qeXtxWrKE8"
      }
    },
    {
      "cell_type": "code",
      "source": [
        "#cmd 에서 python 실행\n",
        "import sys\n",
        "\n",
        "sys.path  # 경로가 보인다.\n",
        "\n",
        "sys.path.append(\"c:\\python-exam\\mymod\")     #경로 추가\n",
        "\n",
        "import mod2\n",
        "print(mod2.add(3,4))"
      ],
      "metadata": {
        "id": "lODsGB-lrMib"
      },
      "execution_count": null,
      "outputs": []
    },
    {
      "cell_type": "markdown",
      "source": [
        "PYTHONPATH 환경변수 사용하기"
      ],
      "metadata": {
        "id": "Mrm9-4EVuZY-"
      }
    },
    {
      "cell_type": "code",
      "source": [
        "set PYTHONPATH = C:\\python-test\n",
        "python\n",
        "import mod2\n",
        "print(mod2.add(3,4))\n"
      ],
      "metadata": {
        "id": "C6BiOS9Xub9M"
      },
      "execution_count": null,
      "outputs": []
    }
  ]
}
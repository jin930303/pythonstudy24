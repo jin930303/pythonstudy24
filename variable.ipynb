{
  "nbformat": 4,
  "nbformat_minor": 0,
  "metadata": {
    "colab": {
      "provenance": [],
      "authorship_tag": "ABX9TyN5b8UcQ08loCNP+gfjmPQJ",
      "include_colab_link": true
    },
    "kernelspec": {
      "name": "python3",
      "display_name": "Python 3"
    },
    "language_info": {
      "name": "python"
    }
  },
  "cells": [
    {
      "cell_type": "markdown",
      "metadata": {
        "id": "view-in-github",
        "colab_type": "text"
      },
      "source": [
        "<a href=\"https://colab.research.google.com/github/jin930303/pythonstudy24/blob/master/variable.ipynb\" target=\"_parent\"><img src=\"https://colab.research.google.com/assets/colab-badge.svg\" alt=\"Open In Colab\"/></a>"
      ]
    },
    {
      "cell_type": "markdown",
      "source": [
        "자료형의 값을 저장하는 공간, 변수\n",
        "\n",
        "변수란 객체= 자료형의 데이터"
      ],
      "metadata": {
        "id": "oAsBWMDyn-p7"
      }
    },
    {
      "cell_type": "code",
      "execution_count": 1,
      "metadata": {
        "id": "J9wDGi79n8gC"
      },
      "outputs": [],
      "source": [
        "# 변수이름 = 변수값\n",
        "a = 1\n",
        "b= \"python\"\n",
        "c= [1,2,3]\n"
      ]
    },
    {
      "cell_type": "code",
      "source": [
        "a = [1,2,3]\n",
        "id(a)"
      ],
      "metadata": {
        "colab": {
          "base_uri": "https://localhost:8080/"
        },
        "id": "alFMF3yKoXI1",
        "outputId": "65aa6bd3-f0b1-4b1b-9a30-9df9be148c90"
      },
      "execution_count": 3,
      "outputs": [
        {
          "output_type": "execute_result",
          "data": {
            "text/plain": [
              "138248532271616"
            ]
          },
          "metadata": {},
          "execution_count": 3
        }
      ]
    },
    {
      "cell_type": "code",
      "source": [
        "a = [1,2,3]\n",
        "b = a\n",
        "id(a)\n",
        "id(b)\n",
        "a is b         #주소 값이 같다 true"
      ],
      "metadata": {
        "colab": {
          "base_uri": "https://localhost:8080/"
        },
        "id": "r0BFHBdNode8",
        "outputId": "808ff887-e5a0-4e57-ecd7-2e1253fe1264"
      },
      "execution_count": 6,
      "outputs": [
        {
          "output_type": "execute_result",
          "data": {
            "text/plain": [
              "True"
            ]
          },
          "metadata": {},
          "execution_count": 6
        }
      ]
    },
    {
      "cell_type": "code",
      "source": [
        "a[1] = 4\n",
        "a\n",
        "b             #여전히 주소 값이 같다\n"
      ],
      "metadata": {
        "colab": {
          "base_uri": "https://localhost:8080/"
        },
        "id": "xI55dsm2ooLK",
        "outputId": "464205f3-8275-4e2c-95b0-9fdcc456d0a2"
      },
      "execution_count": 8,
      "outputs": [
        {
          "output_type": "execute_result",
          "data": {
            "text/plain": [
              "[1, 4, 3]"
            ]
          },
          "metadata": {},
          "execution_count": 8
        }
      ]
    },
    {
      "cell_type": "code",
      "source": [
        "# b 변수를 생성할 때 a 변수의 값을 가져오면서 a와는 다른 주소를 가리키도록\n",
        "\n"
      ],
      "metadata": {
        "colab": {
          "base_uri": "https://localhost:8080/"
        },
        "id": "pV0NrVMnoyeS",
        "outputId": "8e6b74f6-9a31-4e8f-d108-8e1acb95e9ae"
      },
      "execution_count": 10,
      "outputs": [
        {
          "output_type": "execute_result",
          "data": {
            "text/plain": [
              "[1, 2, 3]"
            ]
          },
          "metadata": {},
          "execution_count": 10
        }
      ]
    },
    {
      "cell_type": "code",
      "source": [
        "# 1.[:] 이용하기\n",
        "\n",
        "a = [1,2,3]\n",
        "b= a[:]\n",
        "a[1] = 4\n",
        "a                  # [1,4,3]\n",
        "b                  # [1,2,3]"
      ],
      "metadata": {
        "id": "h-KulP83pNNy"
      },
      "execution_count": null,
      "outputs": []
    },
    {
      "cell_type": "code",
      "source": [
        "# 2.copy 모듈 이용하기\n",
        "\n",
        "from copy import copy\n",
        "a = [1,2,3]\n",
        "b = copy(a)\n"
      ],
      "metadata": {
        "colab": {
          "base_uri": "https://localhost:8080/"
        },
        "id": "kdqB1NZephQi",
        "outputId": "1789dad3-3687-422e-cca8-eee6b390fb1c"
      },
      "execution_count": 15,
      "outputs": [
        {
          "output_type": "execute_result",
          "data": {
            "text/plain": [
              "False"
            ]
          },
          "metadata": {},
          "execution_count": 15
        }
      ]
    },
    {
      "cell_type": "code",
      "source": [
        "a,b = ('python', 'life')\n",
        "(a,b) = 'python', 'life'\n",
        "[a,b] = ['python', 'life']\n",
        "a = b = 'python'\n",
        "b\n"
      ],
      "metadata": {
        "colab": {
          "base_uri": "https://localhost:8080/",
          "height": 35
        },
        "id": "8pvx-YDCqGnR",
        "outputId": "0177610f-67bd-461b-e545-2a8e3803dd21"
      },
      "execution_count": 21,
      "outputs": [
        {
          "output_type": "execute_result",
          "data": {
            "text/plain": [
              "'python'"
            ],
            "application/vnd.google.colaboratory.intrinsic+json": {
              "type": "string"
            }
          },
          "metadata": {},
          "execution_count": 21
        }
      ]
    },
    {
      "cell_type": "code",
      "source": [
        "a = 3\n",
        "b = 5\n",
        "a, b =b,a\n",
        "a\n",
        "b"
      ],
      "metadata": {
        "colab": {
          "base_uri": "https://localhost:8080/"
        },
        "id": "xlaujVmkqbiS",
        "outputId": "10b877a9-7c40-4476-82a6-ac39039a5d72"
      },
      "execution_count": 20,
      "outputs": [
        {
          "output_type": "execute_result",
          "data": {
            "text/plain": [
              "3"
            ]
          },
          "metadata": {},
          "execution_count": 20
        }
      ]
    }
  ]
}
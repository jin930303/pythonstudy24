{
  "nbformat": 4,
  "nbformat_minor": 0,
  "metadata": {
    "colab": {
      "provenance": [],
      "authorship_tag": "ABX9TyMoDhUO6RkIloeH4G5kQPoQ",
      "include_colab_link": true
    },
    "kernelspec": {
      "name": "python3",
      "display_name": "Python 3"
    },
    "language_info": {
      "name": "python"
    }
  },
  "cells": [
    {
      "cell_type": "markdown",
      "metadata": {
        "id": "view-in-github",
        "colab_type": "text"
      },
      "source": [
        "<a href=\"https://colab.research.google.com/github/jin930303/pythonstudy24/blob/master/fileExam.ipynb\" target=\"_parent\"><img src=\"https://colab.research.google.com/assets/colab-badge.svg\" alt=\"Open In Colab\"/></a>"
      ]
    },
    {
      "cell_type": "markdown",
      "source": [
        "파일 읽고 쓰기 연습\n",
        "\n",
        "파이썬은 실무에서 엑셀파일을 .csv 파일로 저장하여 불러와 데이터 분석 등을 한다.\n",
        "\n",
        ".csv는 엑셀에서 표에 있는 값을 텍스트로 저장하는 다른 이름으로 저장 기법을 말함\n",
        "\n",
        "현재 코랩으로 실습을 진행하면 구글에서 제공하는 vm을 사용함\n",
        "\n",
        "리눅스 커널로 되어 있어 content 디렉토리에 저장됨\n",
        "\n",
        "c:\\으로 되어있는 것은 윈도우 커널로 파이참에서 실습을 해야함\n",
        "\n"
      ],
      "metadata": {
        "id": "I8SavWH3Tb97"
      }
    },
    {
      "cell_type": "code",
      "execution_count": 2,
      "metadata": {
        "id": "IMgXQSDmTNrU"
      },
      "outputs": [],
      "source": [
        "#파일 생성하기 실습\n",
        "f = open(\"새파일.txt\",'w') # open() 파일을 연다.\n",
        "for i in range(1,11) :       # 1~10까지 숫자범위 만들어 i에 넣음\n",
        "    data = \"%d번째 줄입니다. \\n\" % i\n",
        "    f.write(data)          # data값을 파일에 기록\n",
        "\n",
        "f.close()                  # 연 파일을 닫는다.\n",
        "\n",
        "# 파일에 권한 부여\n",
        "# 'w' : 쓰기 가능 모드\n",
        "# 'r' : 읽기 가능 모드\n",
        "# 'a' : 추가 모드 (파일 마지막에 새로운 내용 추가)\n"
      ]
    },
    {
      "cell_type": "code",
      "source": [
        "# 저장된 파일내용 가져와 출력하기\n",
        "f = open(\"새파일.txt\",'r')  # 첫줄의 내용 가져와 line 변수에 넣음\n",
        "line = f.readline()\n",
        "print(line)\n",
        "f.close()"
      ],
      "metadata": {
        "colab": {
          "base_uri": "https://localhost:8080/"
        },
        "id": "1SmGAI3xYLhC",
        "outputId": "329bf1a3-d59d-4a6b-91ea-dc235d8caf60"
      },
      "execution_count": 3,
      "outputs": [
        {
          "output_type": "stream",
          "name": "stdout",
          "text": [
            "1번째 줄입니다. \n",
            "\n"
          ]
        }
      ]
    },
    {
      "cell_type": "code",
      "source": [
        "# 무한루프 while로 가져오기\n",
        "f = open(\"새파일.txt\",'r')\n",
        "while True :                # 무한루프 동작\n",
        "    line = f.readline()     # 한줄씩 읽어\n",
        "    if not line : break     # 마지막 줄인지 홧인 : 중단\n",
        "    print(line)             # 출력\n",
        "f.close()                   # 파일닫기"
      ],
      "metadata": {
        "colab": {
          "base_uri": "https://localhost:8080/"
        },
        "id": "eLs8wyopYx_F",
        "outputId": "236ecb2c-2ac3-455d-d94f-83c674a8e476"
      },
      "execution_count": 4,
      "outputs": [
        {
          "output_type": "stream",
          "name": "stdout",
          "text": [
            "1번째 줄입니다. \n",
            "\n",
            "2번째 줄입니다. \n",
            "\n",
            "3번째 줄입니다. \n",
            "\n",
            "4번째 줄입니다. \n",
            "\n",
            "5번째 줄입니다. \n",
            "\n",
            "6번째 줄입니다. \n",
            "\n",
            "7번째 줄입니다. \n",
            "\n",
            "8번째 줄입니다. \n",
            "\n",
            "9번째 줄입니다. \n",
            "\n",
            "10번째 줄입니다. \n",
            "\n"
          ]
        }
      ]
    },
    {
      "cell_type": "code",
      "source": [
        "# .readlines()\n",
        "f = open(\"새파일.txt\",'r')\n",
        "lines = f.readlines()         # 새파일 텍스트 문자열을 리스트로 만듬\n",
        "for line in lines:\n",
        "    print(line.strip())               # 리스트 내용 출력\n",
        "                                      # .strip() 메서드는 줄끝의 줄 바꿈 문자를 제거함\n",
        "f.close()"
      ],
      "metadata": {
        "colab": {
          "base_uri": "https://localhost:8080/"
        },
        "id": "Fj4qvNggZlId",
        "outputId": "f15ce67b-6938-4486-84af-2616d88a7f0e"
      },
      "execution_count": 7,
      "outputs": [
        {
          "output_type": "stream",
          "name": "stdout",
          "text": [
            "1번째 줄입니다.\n",
            "2번째 줄입니다.\n",
            "3번째 줄입니다.\n",
            "4번째 줄입니다.\n",
            "5번째 줄입니다.\n",
            "6번째 줄입니다.\n",
            "7번째 줄입니다.\n",
            "8번째 줄입니다.\n",
            "9번째 줄입니다.\n",
            "10번째 줄입니다.\n"
          ]
        }
      ]
    },
    {
      "cell_type": "code",
      "source": [
        "# read() 함수 사용\n",
        "\n",
        "f = open(\"새파일.txt\",'r')\n",
        "data = f.read()             # .read() 텍스트 안에 있는 모든 값을 문자열로 가져옴\n",
        "print(data)\n",
        "f.close()"
      ],
      "metadata": {
        "colab": {
          "base_uri": "https://localhost:8080/"
        },
        "id": "lDQDd2UOaRdU",
        "outputId": "dd4888e4-39f8-4c28-a53d-ca6b903faa7d"
      },
      "execution_count": 8,
      "outputs": [
        {
          "output_type": "stream",
          "name": "stdout",
          "text": [
            "1번째 줄입니다. \n",
            "2번째 줄입니다. \n",
            "3번째 줄입니다. \n",
            "4번째 줄입니다. \n",
            "5번째 줄입니다. \n",
            "6번째 줄입니다. \n",
            "7번째 줄입니다. \n",
            "8번째 줄입니다. \n",
            "9번째 줄입니다. \n",
            "10번째 줄입니다. \n",
            "\n"
          ]
        }
      ]
    },
    {
      "cell_type": "code",
      "source": [
        "# 파일에 새로운 내용을 추가해보기\n",
        "\n",
        "# 'w'의 특징은 파일을 열때 이미 존재하는 파일이면 전에 내용이 사라짐\n",
        "f = open(\"새파일.txt\",'w') # open() 파일을 연다.\n",
        "for i in range(1,11) :       # 1~10까지 숫자범위 만들어 i에 넣음\n",
        "    data = \"%d번째 행입니다. \\n\" % i\n",
        "    f.write(data)          # data값을 파일에 기록\n",
        "\n",
        "f.close()"
      ],
      "metadata": {
        "id": "_YPumLxdbZud"
      },
      "execution_count": 9,
      "outputs": []
    },
    {
      "cell_type": "code",
      "source": [
        "# 'w'를 'a'로 변경하던지 파일명을 다른이름으로 저장해야한다.\n",
        "\n",
        "f = open(\"새파일.txt\",'a')  # a 추가용\n",
        "for i in range(11,21) :     # 11~20번 범위\n",
        "    data = \"%d번째 줄입니다. \\n\" % i\n",
        "    f.write(data)\n",
        "f.close()"
      ],
      "metadata": {
        "id": "I7W1fhY4cQfT"
      },
      "execution_count": 10,
      "outputs": []
    },
    {
      "cell_type": "code",
      "source": [
        "# with() 함수 사용해보기\n",
        "# 파일을 열면 open() 항상 close() 닫기 해야 함\n",
        "f = open(\"foo.txt\",'w')\n",
        "f.write(\"Life is too short, you need python\")\n",
        "f.close()\n"
      ],
      "metadata": {
        "id": "o9qIaFLhdICk"
      },
      "execution_count": null,
      "outputs": []
    },
    {
      "cell_type": "code",
      "source": [
        "with open(\"foo.txt\",'w') as f :\n",
        "    f.write(\"Life is too short, you need python\")\n",
        "    #f.close 자동으로 닫아줌."
      ],
      "metadata": {
        "id": "HXCKl3EqdpDD"
      },
      "execution_count": null,
      "outputs": []
    }
  ]
}